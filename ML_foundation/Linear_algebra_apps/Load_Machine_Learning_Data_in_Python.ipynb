{
  "nbformat": 4,
  "nbformat_minor": 0,
  "metadata": {
    "colab": {
      "provenance": [],
      "authorship_tag": "ABX9TyNzy0BYbQRn1eMStDerPSn7",
      "include_colab_link": true
    },
    "kernelspec": {
      "name": "python3",
      "display_name": "Python 3"
    },
    "language_info": {
      "name": "python"
    }
  },
  "cells": [
    {
      "cell_type": "markdown",
      "metadata": {
        "id": "view-in-github",
        "colab_type": "text"
      },
      "source": [
        "<a href=\"https://colab.research.google.com/github/2k177/ML/blob/main/ML_foundation/Linear_algebra_apps/Load_Machine_Learning_Data_in_Python.ipynb\" target=\"_parent\"><img src=\"https://colab.research.google.com/assets/colab-badge.svg\" alt=\"Open In Colab\"/></a>"
      ]
    },
    {
      "cell_type": "markdown",
      "source": [
        "## Load Machine Learning Data in Python\n",
        "Now that the basic of linear algebra is completed in the notebooks, now isn't the time to explore its usage and application.... Let's do it!!! Super exited"
      ],
      "metadata": {
        "id": "l03Zvei0mEqU"
      }
    },
    {
      "cell_type": "markdown",
      "source": [
        "### Load CSV with Python Standard Library"
      ],
      "metadata": {
        "id": "pTTD2T7Wq-JH"
      }
    },
    {
      "cell_type": "code",
      "source": [
        "#/content/sample_data/pima-indians-diabetes.data.csv\n",
        "import csv\n",
        "import numpy \n",
        "filename = \"/content/pima-indians-diabetes.data.csv\"\n",
        "raw_data = open(filename, 'rt')\n",
        "reader = csv.reader(raw_data, delimiter=',', quoting=csv.QUOTE_NONE)\n",
        "x = list(reader)\n",
        "data = numpy.array(x).astype('float')\n",
        "print(data.shape)"
      ],
      "metadata": {
        "colab": {
          "base_uri": "https://localhost:8080/"
        },
        "id": "Fm5oO4oBmVut",
        "outputId": "e9eda407-eed8-4ba6-d324-9a505ccb932e"
      },
      "execution_count": 7,
      "outputs": [
        {
          "output_type": "stream",
          "name": "stdout",
          "text": [
            "(768, 9)\n"
          ]
        }
      ]
    },
    {
      "cell_type": "markdown",
      "source": [
        "### Load CSV File With NumPy"
      ],
      "metadata": {
        "id": "QqzK8pfOtGts"
      }
    },
    {
      "cell_type": "code",
      "source": [
        "import numpy\n",
        "filename = '/content/pima-indians-diabetes.data.csv'\n",
        "raw_data = open(filename, 'rt')\n",
        "data = numpy.loadtxt(raw_data, delimiter=\",\")\n",
        "print(data.shape)"
      ],
      "metadata": {
        "colab": {
          "base_uri": "https://localhost:8080/"
        },
        "id": "edYv01sCsgPc",
        "outputId": "927d84e6-66c3-4d93-c32e-f52882ae3592"
      },
      "execution_count": 8,
      "outputs": [
        {
          "output_type": "stream",
          "name": "stdout",
          "text": [
            "(768, 9)\n"
          ]
        }
      ]
    },
    {
      "cell_type": "markdown",
      "source": [
        "### Load csv file from URL using Numpy"
      ],
      "metadata": {
        "id": "CD6Svjd4tU4-"
      }
    },
    {
      "cell_type": "code",
      "source": [
        "# Load CSV from URL using NumPy\n",
        "from numpy import loadtxt\n",
        "from urllib.request import urlopen\n",
        "url = 'https://raw.githubusercontent.com/jbrownlee/Datasets/master/pima-indians-diabetes.data.csv'\n",
        "raw_data = urlopen(url)\n",
        "dataset = loadtxt(raw_data, delimiter=\",\")\n",
        "print(dataset.shape)"
      ],
      "metadata": {
        "colab": {
          "base_uri": "https://localhost:8080/"
        },
        "id": "gVFslF-ftMSr",
        "outputId": "cb164b53-1c38-460a-87e1-cfc3e1de6f41"
      },
      "execution_count": 9,
      "outputs": [
        {
          "output_type": "stream",
          "name": "stdout",
          "text": [
            "(768, 9)\n"
          ]
        }
      ]
    },
    {
      "cell_type": "markdown",
      "source": [
        "### Load CSV file with Pandas"
      ],
      "metadata": {
        "id": "3SwIzj_Gtioc"
      }
    },
    {
      "cell_type": "code",
      "source": [
        "# Load CSV using Pandas\n",
        "import pandas\n",
        "filename = '/content/pima-indians-diabetes.data.csv'\n",
        "names = ['preg', 'plas', 'pres', 'skin', 'test', 'mass', 'pedi', 'age', 'class']\n",
        "data = pandas.read_csv(filename, names=names)\n",
        "print(type(data))\n",
        "print(data.shape)"
      ],
      "metadata": {
        "colab": {
          "base_uri": "https://localhost:8080/"
        },
        "id": "McHTbYdLtafe",
        "outputId": "f144cd93-b5dd-43e1-b6d3-d61c5656cdb5"
      },
      "execution_count": 11,
      "outputs": [
        {
          "output_type": "stream",
          "name": "stdout",
          "text": [
            "<class 'pandas.core.frame.DataFrame'>\n",
            "(768, 9)\n"
          ]
        }
      ]
    },
    {
      "cell_type": "code",
      "source": [
        "# Load CSV using Pandas from URL\n",
        "import pandas\n",
        "url = \"https://raw.githubusercontent.com/jbrownlee/Datasets/master/pima-indians-diabetes.data.csv\"\n",
        "names = ['preg', 'plas', 'pres', 'skin', 'test', 'mass', 'pedi', 'age', 'class']\n",
        "data = pandas.read_csv(url, names=names)\n",
        "print(data.shape)"
      ],
      "metadata": {
        "id": "z_DVauk2tyL0"
      },
      "execution_count": null,
      "outputs": []
    }
  ]
}